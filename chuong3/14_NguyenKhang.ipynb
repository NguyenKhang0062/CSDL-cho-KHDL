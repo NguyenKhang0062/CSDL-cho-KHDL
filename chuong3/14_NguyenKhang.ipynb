{
 "cells": [
  {
   "cell_type": "code",
   "execution_count": 6,
   "id": "82817f07",
   "metadata": {},
   "outputs": [],
   "source": [
    "import sqlite3\n",
    "conn = sqlite3.connect('bt.db')\n",
    "cursor = conn.cursor()"
   ]
  },
  {
   "cell_type": "code",
   "execution_count": 7,
   "id": "df54e1f6",
   "metadata": {},
   "outputs": [],
   "source": [
    "cursor.execute('''CREATE TABLE data\n",
    "                (\n",
    "                    Num int,\n",
    "                    Num1 float,\n",
    "                    Num2 float\n",
    "                    )''')\n",
    "cursor.execute('''INSERT INTO data VALUES\n",
    "               (1,3.5,7.2),\n",
    "               (2, 5.1, 8.4),\n",
    "               (3, 7.8, 6.9),\n",
    "               (4, 9.0, 10.2),\n",
    "               (5, 11.3, 4.5),\n",
    "               (6, 13.7, 12.8)''')\n",
    "conn.commit()"
   ]
  },
  {
   "cell_type": "code",
   "execution_count": null,
   "id": "10f8769e",
   "metadata": {},
   "outputs": [
    {
     "name": "stdout",
     "output_type": "stream",
     "text": [
      "(0.36331684731706154,)\n"
     ]
    }
   ],
   "source": [
    "# Bài 1 \n",
    "cursor.execute('''\n",
    "WITH chi_so AS (\n",
    "    SELECT \n",
    "        COUNT(*) AS n,\n",
    "        SUM(Num1) AS sum_x,\n",
    "        SUM(Num2) AS sum_y,\n",
    "        SUM(Num1 * Num1) AS sum_x2,\n",
    "        SUM(Num2 * Num2) AS sum_y2,\n",
    "        SUM(Num1 * Num2) AS sum_xy\n",
    "    FROM data\n",
    ")\n",
    "SELECT \n",
    "    (n * sum_xy - sum_x * sum_y) /\n",
    "    (SQRT(n * sum_x2 - sum_x * sum_x) * SQRT(n * sum_y2 - sum_y * sum_y)) AS r\n",
    "FROM  chi_so\n",
    "''')\n",
    "\n",
    "\n",
    "for i in cursor:\n",
    "    print(i)\n"
   ]
  },
  {
   "cell_type": "code",
   "execution_count": 19,
   "id": "243c513e",
   "metadata": {},
   "outputs": [
    {
     "name": "stdout",
     "output_type": "stream",
     "text": [
      "Biến Num1 và Num2 có tương quan dương\n"
     ]
    }
   ],
   "source": [
    "print('Biến Num1 và Num2 có tương quan dương')"
   ]
  },
  {
   "cell_type": "code",
   "execution_count": 31,
   "id": "0c4aef84",
   "metadata": {},
   "outputs": [
    {
     "data": {
      "text/plain": [
       "<sqlite3.Cursor at 0x1d141b1a2c0>"
      ]
     },
     "execution_count": 31,
     "metadata": {},
     "output_type": "execute_result"
    }
   ],
   "source": [
    "# Bài 2 \n",
    "cursor.execute('''CREATE TABLE car_scores (\n",
    "    Xe TEXT,\n",
    "    Ngay INTEGER,\n",
    "    Diem INTEGER\n",
    ")''')\n",
    "cursor.execute('''INSERT INTO car_scores VALUES \n",
    "('A', 1, 7), ('A', 2, 8), ('A', 3, 6), ('A', 4, 7),\n",
    "('B', 1, 6), ('B', 2, 7), ('B', 3, 8), ('B', 4, 9),\n",
    "('C', 1, 8), ('C', 2, 7), ('C', 3, 9), ('C', 4, 6);\n",
    "''')"
   ]
  },
  {
   "cell_type": "code",
   "execution_count": 33,
   "id": "54936426",
   "metadata": {},
   "outputs": [
    {
     "name": "stdout",
     "output_type": "stream",
     "text": [
      "('A', 1, 7)\n",
      "('A', 2, 8)\n",
      "('A', 3, 6)\n",
      "('A', 4, 7)\n",
      "('B', 1, 6)\n",
      "('B', 2, 7)\n",
      "('B', 3, 8)\n",
      "('B', 4, 9)\n",
      "('C', 1, 8)\n",
      "('C', 2, 7)\n",
      "('C', 3, 9)\n",
      "('C', 4, 6)\n"
     ]
    }
   ],
   "source": [
    "cursor.execute('''select * from car_scores''')\n",
    "for i in cursor:\n",
    "    print(i)"
   ]
  },
  {
   "cell_type": "code",
   "execution_count": 42,
   "id": "636c12a6",
   "metadata": {},
   "outputs": [
    {
     "name": "stdout",
     "output_type": "stream",
     "text": [
      "('A', 'Thap', 1)\n",
      "('A', 'Trung_binh', 3)\n",
      "('B', 'Cao', 1)\n",
      "('B', 'Thap', 1)\n",
      "('B', 'Trung_binh', 2)\n",
      "('C', 'Cao', 1)\n",
      "('C', 'Thap', 1)\n",
      "('C', 'Trung_binh', 2)\n"
     ]
    }
   ],
   "source": [
    "cursor.execute('''SELECT \n",
    "    Xe,\n",
    "    CASE \n",
    "        WHEN Diem <= 6 THEN 'Thap'\n",
    "        WHEN Diem <= 8 THEN 'Trung_binh'\n",
    "        ELSE 'Cao'\n",
    "    END AS PhanLoai,\n",
    "    COUNT(*) AS SoLuong\n",
    "FROM car_scores\n",
    "GROUP BY Xe, PhanLoai\n",
    "ORDER BY Xe, PhanLoai;\n",
    "\n",
    "''')\n",
    "\n",
    "for i in cursor:\n",
    "    print(i)"
   ]
  },
  {
   "cell_type": "code",
   "execution_count": 48,
   "id": "fcaacd92",
   "metadata": {},
   "outputs": [],
   "source": [
    "import pandas as pd\n",
    "df = pd.read_sql_query(\"SELECT * FROM car_scores\", conn)"
   ]
  },
  {
   "cell_type": "code",
   "execution_count": 51,
   "id": "b66b40a5",
   "metadata": {},
   "outputs": [
    {
     "data": {
      "text/html": [
       "<div>\n",
       "<style scoped>\n",
       "    .dataframe tbody tr th:only-of-type {\n",
       "        vertical-align: middle;\n",
       "    }\n",
       "\n",
       "    .dataframe tbody tr th {\n",
       "        vertical-align: top;\n",
       "    }\n",
       "\n",
       "    .dataframe thead th {\n",
       "        text-align: right;\n",
       "    }\n",
       "</style>\n",
       "<table border=\"1\" class=\"dataframe\">\n",
       "  <thead>\n",
       "    <tr style=\"text-align: right;\">\n",
       "      <th></th>\n",
       "      <th>Xe</th>\n",
       "      <th>Ngay</th>\n",
       "      <th>Diem</th>\n",
       "    </tr>\n",
       "  </thead>\n",
       "  <tbody>\n",
       "    <tr>\n",
       "      <th>0</th>\n",
       "      <td>A</td>\n",
       "      <td>1</td>\n",
       "      <td>7</td>\n",
       "    </tr>\n",
       "    <tr>\n",
       "      <th>1</th>\n",
       "      <td>A</td>\n",
       "      <td>2</td>\n",
       "      <td>8</td>\n",
       "    </tr>\n",
       "    <tr>\n",
       "      <th>2</th>\n",
       "      <td>A</td>\n",
       "      <td>3</td>\n",
       "      <td>6</td>\n",
       "    </tr>\n",
       "    <tr>\n",
       "      <th>3</th>\n",
       "      <td>A</td>\n",
       "      <td>4</td>\n",
       "      <td>7</td>\n",
       "    </tr>\n",
       "    <tr>\n",
       "      <th>4</th>\n",
       "      <td>B</td>\n",
       "      <td>1</td>\n",
       "      <td>6</td>\n",
       "    </tr>\n",
       "    <tr>\n",
       "      <th>5</th>\n",
       "      <td>B</td>\n",
       "      <td>2</td>\n",
       "      <td>7</td>\n",
       "    </tr>\n",
       "    <tr>\n",
       "      <th>6</th>\n",
       "      <td>B</td>\n",
       "      <td>3</td>\n",
       "      <td>8</td>\n",
       "    </tr>\n",
       "    <tr>\n",
       "      <th>7</th>\n",
       "      <td>B</td>\n",
       "      <td>4</td>\n",
       "      <td>9</td>\n",
       "    </tr>\n",
       "    <tr>\n",
       "      <th>8</th>\n",
       "      <td>C</td>\n",
       "      <td>1</td>\n",
       "      <td>8</td>\n",
       "    </tr>\n",
       "    <tr>\n",
       "      <th>9</th>\n",
       "      <td>C</td>\n",
       "      <td>2</td>\n",
       "      <td>7</td>\n",
       "    </tr>\n",
       "    <tr>\n",
       "      <th>10</th>\n",
       "      <td>C</td>\n",
       "      <td>3</td>\n",
       "      <td>9</td>\n",
       "    </tr>\n",
       "    <tr>\n",
       "      <th>11</th>\n",
       "      <td>C</td>\n",
       "      <td>4</td>\n",
       "      <td>6</td>\n",
       "    </tr>\n",
       "  </tbody>\n",
       "</table>\n",
       "</div>"
      ],
      "text/plain": [
       "   Xe  Ngay  Diem\n",
       "0   A     1     7\n",
       "1   A     2     8\n",
       "2   A     3     6\n",
       "3   A     4     7\n",
       "4   B     1     6\n",
       "5   B     2     7\n",
       "6   B     3     8\n",
       "7   B     4     9\n",
       "8   C     1     8\n",
       "9   C     2     7\n",
       "10  C     3     9\n",
       "11  C     4     6"
      ]
     },
     "execution_count": 51,
     "metadata": {},
     "output_type": "execute_result"
    }
   ],
   "source": [
    "df"
   ]
  },
  {
   "cell_type": "code",
   "execution_count": 52,
   "id": "ff79e489",
   "metadata": {},
   "outputs": [
    {
     "name": "stdout",
     "output_type": "stream",
     "text": [
      "==> Kiểm định theo Car:\n",
      "Category  Cao  Thấp  Trung bình\n",
      "Xe                             \n",
      "A           1     1           2\n",
      "B           2     1           1\n",
      "C           2     1           1\n",
      "Chi2 = 0.900, p = 0.925\n",
      "=> Không có sự khác biệt đáng kể\n",
      "\n",
      "==> Kiểm định theo Day:\n",
      "Category  Cao  Thấp  Trung bình\n",
      "Ngay                           \n",
      "1           1     1           1\n",
      "2           1     0           2\n",
      "3           2     1           0\n",
      "4           1     1           1\n",
      "Chi2 = 3.600, p = 0.731\n",
      "=> Kết quả không phụ thuộc vào ngày\n"
     ]
    }
   ],
   "source": [
    "from scipy.stats import chi2_contingency\n",
    "def score_category(score):\n",
    "    if score <= 6.5:\n",
    "        return \"Thấp\"\n",
    "    elif score <= 7.5:\n",
    "        return \"Trung bình\"\n",
    "    else:\n",
    "        return \"Cao\"\n",
    "\n",
    "df[\"Category\"] = df[\"Diem\"].apply(score_category)\n",
    "\n",
    "# 6. Tạo bảng chéo theo Car × Category\n",
    "table_car = pd.crosstab(df[\"Xe\"], df[\"Category\"])\n",
    "chi2_car, p_car, _, _ = chi2_contingency(table_car)\n",
    "\n",
    "# 7. Tạo bảng chéo theo Day × Category\n",
    "table_day = pd.crosstab(df[\"Ngay\"], df[\"Category\"])\n",
    "chi2_day, p_day, _, _ = chi2_contingency(table_day)\n",
    "\n",
    "# 8. In kết quả\n",
    "print(\"==> Kiểm định theo Car:\")\n",
    "print(table_car)\n",
    "print(f\"Chi2 = {chi2_car:.3f}, p = {p_car:.3f}\")\n",
    "print(\"=> Có sự khác biệt đáng kể giữa các mẫu xe\" if p_car < 0.05 else \"=> Không có sự khác biệt đáng kể\")\n",
    "\n",
    "print(\"\\n==> Kiểm định theo Day:\")\n",
    "print(table_day)\n",
    "print(f\"Chi2 = {chi2_day:.3f}, p = {p_day:.3f}\")\n",
    "print(\"=> Kết quả phụ thuộc vào ngày\" if p_day < 0.05 else \"=> Kết quả không phụ thuộc vào ngày\")\n",
    "\n",
    "# 9. Đóng kết nối\n",
    "conn.close()"
   ]
  },
  {
   "cell_type": "code",
   "execution_count": null,
   "id": "06a27bfe",
   "metadata": {},
   "outputs": [],
   "source": [
    "# Bài 3\n",
    "conn = sqlite3.connect('flights.db')\n",
    "cursor = conn.cursor()"
   ]
  },
  {
   "cell_type": "code",
   "execution_count": 60,
   "id": "2623e665",
   "metadata": {},
   "outputs": [
    {
     "data": {
      "text/plain": [
       "<sqlite3.Cursor at 0x1d154fa9640>"
      ]
     },
     "execution_count": 60,
     "metadata": {},
     "output_type": "execute_result"
    }
   ],
   "source": [
    "# 2. Tạo bảng flights và chèn dữ liệu mẫu\n",
    "cursor.execute(\"\"\"\n",
    "CREATE TABLE flights (\n",
    "    id INTEGER PRIMARY KEY,\n",
    "    departure_time INTEGER\n",
    ")\n",
    "\"\"\")\n",
    "\n"
   ]
  },
  {
   "cell_type": "code",
   "execution_count": 62,
   "id": "6829a804",
   "metadata": {},
   "outputs": [
    {
     "name": "stdout",
     "output_type": "stream",
     "text": [
      "(1, 830, '08:30')\n",
      "(2, 1445, '14:45')\n",
      "(3, 30, '00:30')\n",
      "(4, 123, '01:23')\n",
      "(5, 2359, '23:59')\n",
      "(6, 945, '09:45')\n"
     ]
    }
   ],
   "source": [
    "# Dữ liệu mẫu: thời gian dạng số nguyên\n",
    "sample_data = [\n",
    "    (1, 830),\n",
    "    (2, 1445),\n",
    "    (3, 30),    # 00:30 AM\n",
    "    (4, 123),   # 01:23 AM\n",
    "    (5, 2359),  # 23:59\n",
    "    (6, 945)    # 09:45 AM\n",
    "]\n",
    "\n",
    "cursor.executemany(\"INSERT INTO flights (id, departure_time) VALUES (?, ?)\", sample_data)\n",
    "conn.commit()\n",
    "\n",
    "# 3. Truy vấn chuyển đổi định dạng thời gian\n",
    "cursor.execute('''SELECT \n",
    "    id,\n",
    "    departure_time,\n",
    "    printf('%02d:%02d', departure_time / 100, departure_time % 100) AS formatted_time\n",
    "FROM flights''')\n",
    "for i in cursor:\n",
    "    print(i)"
   ]
  },
  {
   "cell_type": "code",
   "execution_count": null,
   "id": "9903d130",
   "metadata": {},
   "outputs": [
    {
     "name": "stdout",
     "output_type": "stream",
     "text": [
      "Median = 12.0\n",
      "MAD = 1.0\n",
      "Ngưỡng ngoại lệ (1.5×MAD): ±1.5\n",
      "Giá trị ngoại lệ: [10.0, 10.0, 100.0, 200.0]\n"
     ]
    }
   ],
   "source": [
    "# Bài 4\n",
    "cursor.execute(\"CREATE TABLE data(val REAL)\")\n",
    "\n",
    "# 2. Chèn dữ liệu mẫu\n",
    "values = [(10,), (12,), (13,), (12,), (11,), (100,), (12,), (13,), (11,), (10,), (200,)]\n",
    "cursor.executemany(\"INSERT INTO data(val) VALUES (?)\", values)\n",
    "conn.commit()\n",
    "\n",
    "# 3. Tính median\n",
    "cursor.execute(\"\"\"\n",
    "SELECT val FROM data ORDER BY val\n",
    "\"\"\")\n",
    "vals = [row[0] for row in cursor.fetchall()]\n",
    "n = len(vals)\n",
    "median = (vals[n // 2] if n % 2 == 1 else (vals[n // 2 - 1] + vals[n // 2]) / 2)\n",
    "\n",
    "# 4. Tính |xi - median|\n",
    "abs_devs = [abs(v - median) for v in vals]\n",
    "abs_devs.sort()\n",
    "mad = (abs_devs[n // 2] if n % 2 == 1 else (abs_devs[n // 2 - 1] + abs_devs[n // 2]) / 2)\n",
    "\n",
    "# 5. Chọn các giá trị là ngoại lệ (vượt 1.5 × MAD)\n",
    "threshold = 1.5 * mad\n",
    "outliers = [v for v in vals if abs(v - median) > threshold]\n",
    "\n",
    "# 6. Xuất kết quả\n",
    "print(f\"Median = {median}\")\n",
    "print(f\"MAD = {mad}\")\n",
    "print(f\"Ngưỡng ngoại lệ (1.5×MAD): ±{threshold}\")\n",
    "print(\"Giá trị ngoại lệ:\", outliers)\n"
   ]
  },
  {
   "cell_type": "code",
   "execution_count": null,
   "id": "f42714b7",
   "metadata": {},
   "outputs": [
    {
     "name": "stdout",
     "output_type": "stream",
     "text": [
      "(1, 2, 1, 1, 1)\n",
      "(1, 3, 0, 0, 0)\n",
      "(1, 4, 1, 0, 0)\n",
      "(2, 3, 0, 0, 0)\n",
      "(2, 4, 1, 0, 0)\n",
      "(3, 4, 0, 0, 0)\n"
     ]
    }
   ],
   "source": [
    "# Bài 55\n",
    "cursor.execute(\"\"\"\n",
    "CREATE TABLE Patient (\n",
    "    id INTEGER PRIMARY KEY,\n",
    "    last_name TEXT,\n",
    "    weight REAL,\n",
    "    height REAL\n",
    ")\n",
    "\"\"\")\n",
    "\n",
    "# 2. Thêm dữ liệu mẫu\n",
    "patients = [\n",
    "    (1, 'Nguyen', 60, 170),\n",
    "    (2, 'Nguyen', 60, 171),   # Giống last_name + weight → có thể là cùng người\n",
    "    (3, 'Tran', 58, 165),\n",
    "    (4, 'Nguyen', 65, 170),   # Cùng họ, khác cân nặng → khác người\n",
    "]\n",
    "\n",
    "cursor.executemany(\"INSERT INTO Patient VALUES (?, ?, ?, ?)\", patients)\n",
    "conn.commit()\n",
    "\n",
    "# 3. Truy vấn kết hợp từng cặp và tính \"khoảng cách Boolean\"\n",
    "cursor.execute(\"\"\"\n",
    "SELECT \n",
    "    p1.id AS id1,\n",
    "    p2.id AS id2,\n",
    "    p1.last_name = p2.last_name AS same_last_name,\n",
    "    p1.weight = p2.weight AS same_weight,\n",
    "    (p1.last_name = p2.last_name AND p1.weight = p2.weight) AS is_same_person\n",
    "FROM Patient p1\n",
    "JOIN Patient p2 ON p1.id < p2.id\n",
    "\"\"\")\n",
    "for i in cursor:\n",
    "    print(i)"
   ]
  },
  {
   "cell_type": "code",
   "execution_count": 65,
   "id": "01839e4b",
   "metadata": {},
   "outputs": [],
   "source": [
    "conn.close()"
   ]
  }
 ],
 "metadata": {
  "kernelspec": {
   "display_name": "Python 3",
   "language": "python",
   "name": "python3"
  },
  "language_info": {
   "codemirror_mode": {
    "name": "ipython",
    "version": 3
   },
   "file_extension": ".py",
   "mimetype": "text/x-python",
   "name": "python",
   "nbconvert_exporter": "python",
   "pygments_lexer": "ipython3",
   "version": "3.11.5"
  }
 },
 "nbformat": 4,
 "nbformat_minor": 5
}
